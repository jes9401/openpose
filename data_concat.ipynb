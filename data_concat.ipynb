{
 "cells": [
  {
   "cell_type": "code",
   "execution_count": 2,
   "metadata": {},
   "outputs": [],
   "source": [
    "import glob\n",
    "import os\n",
    "import pandas as pd\n",
    "import numpy as np\n",
    "import math\n",
    "import re"
   ]
  },
  {
   "cell_type": "code",
   "execution_count": 62,
   "metadata": {},
   "outputs": [
    {
     "data": {
      "text/plain": [
       "'C:\\\\Users\\\\Admin\\\\Desktop\\\\수업자료\\\\산학프로젝트\\\\fit_model\\\\blob-quickstart-v12\\\\학습데이터0624\\\\0624체조\\\\test'"
      ]
     },
     "execution_count": 62,
     "metadata": {},
     "output_type": "execute_result"
    }
   ],
   "source": [
    "os.chdir('C:\\\\Users\\\\Admin\\\\Desktop\\\\수업자료\\\\산학프로젝트\\\\fit_model\\\\blob-quickstart-v12\\\\학습데이터0624\\\\0624체조\\\\test')\n",
    "os.getcwd()\n"
   ]
  },
  {
   "cell_type": "code",
   "execution_count": 64,
   "metadata": {},
   "outputs": [],
   "source": [
    "acc_list = glob.glob(os.path.join('./*ACCELEROMETER.csv'))\n",
    "gy_list = glob.glob(os.path.join('./*GYROSCOPE.csv'))\n",
    "# print(acc_list)\n",
    "# print()\n",
    "# print(gy_list)"
   ]
  },
  {
   "cell_type": "code",
   "execution_count": 65,
   "metadata": {},
   "outputs": [],
   "source": [
    "all_data = []\n",
    "idx = 0\n",
    "for i in range(len(acc_list)):\n",
    "    exercise_list = []\n",
    "    s = acc_list[i]\n",
    "    s = re.findall('\\(([^)]+)',s)\n",
    "    df_acc = pd.read_csv(acc_list[i])\n",
    "    df_acc.insert( 0, 'id', None)\n",
    "    df_gyro = pd.read_csv(gy_list[i])\n",
    "    temp = len(df_acc)-len(df_gyro)\n",
    "    if len(df_acc) > len(df_gyro):\n",
    "        df_acc = df_acc[:len(df_acc)-temp]\n",
    "    elif len(df_acc) < len(df_gyro):\n",
    "        df_gyro = df_gyro[:len(df_gyro)+temp]\n",
    "    df_acc=df_acc.drop('TimeZone',axis=1)\n",
    "    df_acc.rename(columns = {'X' : 'acc_x'}, inplace = True)\n",
    "    df_acc.rename(columns = {'Y' : 'acc_y'}, inplace = True)\n",
    "    df_acc.rename(columns = {'Z' : 'acc_z'}, inplace = True)\n",
    "    df_acc['acc_x'] = df_acc['acc_x'] / 9.8\n",
    "    df_acc['acc_y'] = df_acc['acc_y'] / 9.8\n",
    "    df_acc['acc_z'] = df_acc['acc_z'] / 9.8 \n",
    "\n",
    "    df_gyro=df_gyro.drop('TimeZone',axis=1)\n",
    "    df_gyro.rename(columns = {'X' : 'gy_x'}, inplace = True)\n",
    "    df_gyro.rename(columns = {'Y' : 'gy_y'}, inplace = True)\n",
    "    df_gyro.rename(columns = {'Z' : 'gy_z'}, inplace = True)\n",
    "    df_acc['gy_x'] = df_gyro['gy_x']\n",
    "    df_acc['gy_y'] = df_gyro['gy_y']\n",
    "    df_acc['gy_z'] = df_gyro['gy_z']\n",
    "    id_list = []\n",
    "    count = 0\n",
    "    exercise = acc_list[i]\n",
    "    if len(df_acc)>3000:\n",
    "        df_acc = df_acc[:3000]\n",
    "    elif len(df_acc)>2400:\n",
    "        df_acc = df_acc[:2400]\n",
    "    elif len(df_acc)>1800:\n",
    "        df_acc = df_acc[:1800]\n",
    "    for i in range(len(df_acc)):\n",
    "        if count>599:\n",
    "            count = 0\n",
    "            idx+=1\n",
    "        id_list.append(idx)\n",
    "        exercise_list.extend(s)\n",
    "        count+=1\n",
    "        if i == len(df_acc)-1:\n",
    "            idx+=1\n",
    "    df_acc['id'] = id_list\n",
    "    df_acc['exercise'] = exercise_list\n",
    "    all_data.append(df_acc)\n",
    "df_all = pd.concat(all_data, axis=0, ignore_index=True)"
   ]
  },
  {
   "cell_type": "code",
   "execution_count": 66,
   "metadata": {},
   "outputs": [
    {
     "data": {
      "text/html": [
       "<div>\n",
       "<style scoped>\n",
       "    .dataframe tbody tr th:only-of-type {\n",
       "        vertical-align: middle;\n",
       "    }\n",
       "\n",
       "    .dataframe tbody tr th {\n",
       "        vertical-align: top;\n",
       "    }\n",
       "\n",
       "    .dataframe thead th {\n",
       "        text-align: right;\n",
       "    }\n",
       "</style>\n",
       "<table border=\"1\" class=\"dataframe\">\n",
       "  <thead>\n",
       "    <tr style=\"text-align: right;\">\n",
       "      <th></th>\n",
       "      <th>id</th>\n",
       "      <th>Time</th>\n",
       "      <th>acc_x</th>\n",
       "      <th>acc_y</th>\n",
       "      <th>acc_z</th>\n",
       "      <th>gy_x</th>\n",
       "      <th>gy_y</th>\n",
       "      <th>gy_z</th>\n",
       "      <th>exercise</th>\n",
       "    </tr>\n",
       "  </thead>\n",
       "  <tbody>\n",
       "    <tr>\n",
       "      <th>0</th>\n",
       "      <td>0</td>\n",
       "      <td>2021-06-21 16:49:00:79942</td>\n",
       "      <td>0.832116</td>\n",
       "      <td>-0.407268</td>\n",
       "      <td>-0.417767</td>\n",
       "      <td>-5.46</td>\n",
       "      <td>45.43</td>\n",
       "      <td>-26.95</td>\n",
       "      <td>두손</td>\n",
       "    </tr>\n",
       "    <tr>\n",
       "      <th>1</th>\n",
       "      <td>0</td>\n",
       "      <td>2021-06-21 16:49:00:8194</td>\n",
       "      <td>0.846766</td>\n",
       "      <td>-0.392374</td>\n",
       "      <td>-0.405315</td>\n",
       "      <td>-3.43</td>\n",
       "      <td>5.74</td>\n",
       "      <td>1.05</td>\n",
       "      <td>두손</td>\n",
       "    </tr>\n",
       "    <tr>\n",
       "      <th>2</th>\n",
       "      <td>0</td>\n",
       "      <td>2021-06-21 16:49:00:83957</td>\n",
       "      <td>0.846034</td>\n",
       "      <td>-0.427046</td>\n",
       "      <td>-0.405071</td>\n",
       "      <td>-2.24</td>\n",
       "      <td>4.27</td>\n",
       "      <td>0.49</td>\n",
       "      <td>두손</td>\n",
       "    </tr>\n",
       "    <tr>\n",
       "      <th>3</th>\n",
       "      <td>0</td>\n",
       "      <td>2021-06-21 16:49:00:86032</td>\n",
       "      <td>0.848231</td>\n",
       "      <td>-0.417767</td>\n",
       "      <td>-0.415814</td>\n",
       "      <td>-0.49</td>\n",
       "      <td>3.99</td>\n",
       "      <td>1.05</td>\n",
       "      <td>두손</td>\n",
       "    </tr>\n",
       "    <tr>\n",
       "      <th>4</th>\n",
       "      <td>0</td>\n",
       "      <td>2021-06-21 16:49:00:87975</td>\n",
       "      <td>0.853359</td>\n",
       "      <td>-0.438766</td>\n",
       "      <td>-0.405071</td>\n",
       "      <td>4.90</td>\n",
       "      <td>4.13</td>\n",
       "      <td>1.54</td>\n",
       "      <td>두손</td>\n",
       "    </tr>\n",
       "    <tr>\n",
       "      <th>...</th>\n",
       "      <td>...</td>\n",
       "      <td>...</td>\n",
       "      <td>...</td>\n",
       "      <td>...</td>\n",
       "      <td>...</td>\n",
       "      <td>...</td>\n",
       "      <td>...</td>\n",
       "      <td>...</td>\n",
       "      <td>...</td>\n",
       "    </tr>\n",
       "    <tr>\n",
       "      <th>11995</th>\n",
       "      <td>19</td>\n",
       "      <td>2021-06-21 17:04:48:62764</td>\n",
       "      <td>0.868985</td>\n",
       "      <td>-0.391153</td>\n",
       "      <td>-0.276640</td>\n",
       "      <td>-3.71</td>\n",
       "      <td>4.34</td>\n",
       "      <td>-7.98</td>\n",
       "      <td>왼손</td>\n",
       "    </tr>\n",
       "    <tr>\n",
       "      <th>11996</th>\n",
       "      <td>19</td>\n",
       "      <td>2021-06-21 17:04:48:64842</td>\n",
       "      <td>0.874357</td>\n",
       "      <td>-0.371376</td>\n",
       "      <td>-0.279081</td>\n",
       "      <td>-7.21</td>\n",
       "      <td>3.01</td>\n",
       "      <td>-9.17</td>\n",
       "      <td>왼손</td>\n",
       "    </tr>\n",
       "    <tr>\n",
       "      <th>11997</th>\n",
       "      <td>19</td>\n",
       "      <td>2021-06-21 17:04:48:66756</td>\n",
       "      <td>0.895111</td>\n",
       "      <td>-0.385049</td>\n",
       "      <td>-0.280790</td>\n",
       "      <td>-7.84</td>\n",
       "      <td>-0.28</td>\n",
       "      <td>-10.71</td>\n",
       "      <td>왼손</td>\n",
       "    </tr>\n",
       "    <tr>\n",
       "      <th>11998</th>\n",
       "      <td>19</td>\n",
       "      <td>2021-06-21 17:04:48:68735</td>\n",
       "      <td>0.906098</td>\n",
       "      <td>-0.389444</td>\n",
       "      <td>-0.286895</td>\n",
       "      <td>-8.33</td>\n",
       "      <td>-2.31</td>\n",
       "      <td>-11.41</td>\n",
       "      <td>왼손</td>\n",
       "    </tr>\n",
       "    <tr>\n",
       "      <th>11999</th>\n",
       "      <td>19</td>\n",
       "      <td>2021-06-21 17:04:48:70803</td>\n",
       "      <td>0.893890</td>\n",
       "      <td>-0.367469</td>\n",
       "      <td>-0.277616</td>\n",
       "      <td>-10.57</td>\n",
       "      <td>-4.69</td>\n",
       "      <td>-12.46</td>\n",
       "      <td>왼손</td>\n",
       "    </tr>\n",
       "  </tbody>\n",
       "</table>\n",
       "<p>12000 rows × 9 columns</p>\n",
       "</div>"
      ],
      "text/plain": [
       "       id                       Time     acc_x     acc_y     acc_z   gy_x  \\\n",
       "0       0  2021-06-21 16:49:00:79942  0.832116 -0.407268 -0.417767  -5.46   \n",
       "1       0   2021-06-21 16:49:00:8194  0.846766 -0.392374 -0.405315  -3.43   \n",
       "2       0  2021-06-21 16:49:00:83957  0.846034 -0.427046 -0.405071  -2.24   \n",
       "3       0  2021-06-21 16:49:00:86032  0.848231 -0.417767 -0.415814  -0.49   \n",
       "4       0  2021-06-21 16:49:00:87975  0.853359 -0.438766 -0.405071   4.90   \n",
       "...    ..                        ...       ...       ...       ...    ...   \n",
       "11995  19  2021-06-21 17:04:48:62764  0.868985 -0.391153 -0.276640  -3.71   \n",
       "11996  19  2021-06-21 17:04:48:64842  0.874357 -0.371376 -0.279081  -7.21   \n",
       "11997  19  2021-06-21 17:04:48:66756  0.895111 -0.385049 -0.280790  -7.84   \n",
       "11998  19  2021-06-21 17:04:48:68735  0.906098 -0.389444 -0.286895  -8.33   \n",
       "11999  19  2021-06-21 17:04:48:70803  0.893890 -0.367469 -0.277616 -10.57   \n",
       "\n",
       "        gy_y   gy_z exercise  \n",
       "0      45.43 -26.95       두손  \n",
       "1       5.74   1.05       두손  \n",
       "2       4.27   0.49       두손  \n",
       "3       3.99   1.05       두손  \n",
       "4       4.13   1.54       두손  \n",
       "...      ...    ...      ...  \n",
       "11995   4.34  -7.98       왼손  \n",
       "11996   3.01  -9.17       왼손  \n",
       "11997  -0.28 -10.71       왼손  \n",
       "11998  -2.31 -11.41       왼손  \n",
       "11999  -4.69 -12.46       왼손  \n",
       "\n",
       "[12000 rows x 9 columns]"
      ]
     },
     "execution_count": 66,
     "metadata": {},
     "output_type": "execute_result"
    }
   ],
   "source": [
    "df_all"
   ]
  },
  {
   "cell_type": "code",
   "execution_count": 67,
   "metadata": {},
   "outputs": [],
   "source": [
    "df_all.to_csv('./0624test.csv',encoding='cp949',index=False)"
   ]
  },
  {
   "cell_type": "code",
   "execution_count": 38,
   "metadata": {},
   "outputs": [],
   "source": [
    "df_all.drop(['Time','acc_x','acc_y','acc_z','gy_x','gy_y','gy_z'],axis=1,inplace=True)"
   ]
  },
  {
   "cell_type": "code",
   "execution_count": 40,
   "metadata": {},
   "outputs": [],
   "source": [
    "df_all\n",
    "# 박수 0\n",
    "# 두손 1\n",
    "# 왼손 2\n",
    "# 오른손 3"
   ]
  },
  {
   "cell_type": "code",
   "execution_count": 42,
   "metadata": {},
   "outputs": [],
   "source": [
    "df_all.insert(1,'label',0)"
   ]
  },
  {
   "cell_type": "code",
   "execution_count": null,
   "metadata": {},
   "outputs": [],
   "source": [
    "dic = {\"박수\":0,\"두손\":1,\"왼손\":2,\"오른손\":3}\n"
   ]
  },
  {
   "cell_type": "code",
   "execution_count": 49,
   "metadata": {},
   "outputs": [],
   "source": [
    "a = list(df_all['exercise'])\n",
    "for i in range(len(a)):\n",
    "    if a[i] in dic:\n",
    "        a[i] = dic[a[i]]\n",
    "df_all['label'] = a"
   ]
  },
  {
   "cell_type": "code",
   "execution_count": 57,
   "metadata": {},
   "outputs": [],
   "source": [
    "df_all.drop_duplicates(inplace=True)"
   ]
  },
  {
   "cell_type": "code",
   "execution_count": 55,
   "metadata": {},
   "outputs": [],
   "source": [
    "df_all.rename(columns={'exercise':'label_desc'},inplace=True)"
   ]
  },
  {
   "cell_type": "code",
   "execution_count": 60,
   "metadata": {},
   "outputs": [],
   "source": [
    "df_all.to_csv('./train_labels.csv',index=False,encoding='cp949')"
   ]
  },
  {
   "cell_type": "code",
   "execution_count": null,
   "metadata": {},
   "outputs": [],
   "source": []
  }
 ],
 "metadata": {
  "kernelspec": {
   "display_name": "Python 3",
   "language": "python",
   "name": "python3"
  },
  "language_info": {
   "codemirror_mode": {
    "name": "ipython",
    "version": 3
   },
   "file_extension": ".py",
   "mimetype": "text/x-python",
   "name": "python",
   "nbconvert_exporter": "python",
   "pygments_lexer": "ipython3",
   "version": "3.8.5"
  }
 },
 "nbformat": 4,
 "nbformat_minor": 4
}
