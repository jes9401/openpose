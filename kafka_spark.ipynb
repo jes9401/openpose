{
 "cells": [
  {
   "cell_type": "code",
   "execution_count": 3,
   "id": "72bdc1da",
   "metadata": {},
   "outputs": [
    {
     "data": {
      "text/html": [
       "\n",
       "        <div>\n",
       "            <p><b>SparkContext</b></p>\n",
       "\n",
       "            <p><a href=\"http://10.0.2.15:4040\">Spark UI</a></p>\n",
       "\n",
       "            <dl>\n",
       "              <dt>Version</dt>\n",
       "                <dd><code>v3.0.3</code></dd>\n",
       "              <dt>Master</dt>\n",
       "                <dd><code>local[*]</code></dd>\n",
       "              <dt>AppName</dt>\n",
       "                <dd><code>PySparkShell</code></dd>\n",
       "            </dl>\n",
       "        </div>\n",
       "        "
      ],
      "text/plain": [
       "<SparkContext master=local[*] appName=PySparkShell>"
      ]
     },
     "execution_count": 3,
     "metadata": {},
     "output_type": "execute_result"
    }
   ],
   "source": [
    "sc"
   ]
  },
  {
   "cell_type": "code",
   "execution_count": 2,
   "id": "9d525503",
   "metadata": {},
   "outputs": [],
   "source": [
    "# !pip3 install pandas"
   ]
  },
  {
   "cell_type": "code",
   "execution_count": 6,
   "id": "5cc42819",
   "metadata": {},
   "outputs": [],
   "source": [
    "import pyspark\n",
    "import pyspark.sql\n",
    "from pyspark.sql import *\n",
    "import time\n",
    "from pyspark.sql.functions import *\n",
    "from pyspark.sql.types import *\n",
    "from pyspark.sql import SparkSession\n",
    "# from pyspark.streaming.kafka import KafkaUtils\n",
    "from pyspark import SparkContext\n",
    "from pyspark.streaming import StreamingContext\n",
    "import pandas as pd"
   ]
  },
  {
   "cell_type": "code",
   "execution_count": 3,
   "id": "fc4d1254",
   "metadata": {
    "scrolled": true
   },
   "outputs": [
    {
     "name": "stdout",
     "output_type": "stream",
     "text": [
      "Collecting KafkaUtils\n",
      "\u001b[31m  Could not find a version that satisfies the requirement KafkaUtils (from versions: )\u001b[0m\n",
      "\u001b[31mNo matching distribution found for KafkaUtils\u001b[0m\n"
     ]
    }
   ],
   "source": [
    "!pip3 install KafkaUtils"
   ]
  },
  {
   "cell_type": "code",
   "execution_count": 7,
   "id": "0de17236",
   "metadata": {},
   "outputs": [],
   "source": [
    "spark = SparkSession.builder.master(\"local\").appName(\"api\").getOrCreate()"
   ]
  },
  {
   "cell_type": "code",
   "execution_count": 10,
   "id": "71f76c5b",
   "metadata": {},
   "outputs": [],
   "source": [
    "df_gyro = spark.read.format(\"kafka\").option(\"kafka.bootstrap.servers\", \"localhost:9092\")\\\n",
    "        .option(\"subscribe\", \"gyro\").load()\n",
    "# df1 = spark.readStream.format(\"kafka\").option(\"kafka.bootstrap.servers\", \"localhost:9092\")\\\n",
    "#         .option(\"subscribe\", \"gyro\").load()\n",
    "df_gyro_str = df_gyro.selectExpr(\"CAST(value AS STRING)\")\n",
    "df_gyro_struct = StructType()\\\n",
    "                    .add(\"Time\", StringType())\\\n",
    "                    .add(\"TimeZone\", StringType())\\\n",
    "                    .add(\"gy_x\", DoubleType())\\\n",
    "                    .add(\"gy_y\", DoubleType())\\\n",
    "                    .add(\"gy_z\", DoubleType())\n",
    "df_gyro_struct = df_gyro_str.select(from_json(col(\"value\"), df_gyro_struct).alias(\"df_gyro\"))\n",
    "df_gyro_new = df_gyro_struct.select(\"df_gyro.*\")\n",
    "df_gyro = df_gyro_new.toPandas()"
   ]
  },
  {
   "cell_type": "code",
   "execution_count": 11,
   "id": "66787472",
   "metadata": {},
   "outputs": [],
   "source": [
    "df_acc = spark.read.format(\"kafka\").option(\"kafka.bootstrap.servers\", \"localhost:9092\")\\\n",
    "        .option(\"subscribe\", \"acc\").load()\n",
    "df_acc_str = df_acc.selectExpr(\"CAST(value AS STRING)\")\n",
    "df_acc_struct = StructType()\\\n",
    "                    .add(\"Time\", StringType())\\\n",
    "                    .add(\"TimeZone\", StringType())\\\n",
    "                    .add(\"acc_x\", DoubleType())\\\n",
    "                    .add(\"acc_y\", DoubleType())\\\n",
    "                    .add(\"acc_z\", DoubleType())\n",
    "df_acc_struct = df_acc_str.select(from_json(col(\"value\"), df_acc_struct).alias(\"df_acc\"))\n",
    "df_acc_new = df_acc_struct.select(\"df_acc.*\")\n",
    "df_acc = df_acc_new.toPandas()"
   ]
  },
  {
   "cell_type": "code",
   "execution_count": 12,
   "id": "cf14c620",
   "metadata": {},
   "outputs": [],
   "source": [
    "df_acc['Time'] = list(map(lambda x:\"\".join(x.split(':')[:-1])+x.split(':')[-1][:2],list(df_acc['Time'])))\n",
    "df_gyro['Time'] = list(map(lambda x:\"\".join(x.split(':')[:-1])+x.split(':')[-1][:2],list(df_gyro['Time'])))\n",
    "df_acc.drop('TimeZone',axis=1,inplace=True)\n",
    "df_gyro.drop('TimeZone',axis=1,inplace=True)\n",
    "df_acc.drop_duplicates(['Time'],inplace=True)\n",
    "df_gyro.drop_duplicates(['Time'],inplace=True)"
   ]
  },
  {
   "cell_type": "code",
   "execution_count": 13,
   "id": "641e71f8",
   "metadata": {},
   "outputs": [
    {
     "data": {
      "text/html": [
       "<div>\n",
       "<style scoped>\n",
       "    .dataframe tbody tr th:only-of-type {\n",
       "        vertical-align: middle;\n",
       "    }\n",
       "\n",
       "    .dataframe tbody tr th {\n",
       "        vertical-align: top;\n",
       "    }\n",
       "\n",
       "    .dataframe thead th {\n",
       "        text-align: right;\n",
       "    }\n",
       "</style>\n",
       "<table border=\"1\" class=\"dataframe\">\n",
       "  <thead>\n",
       "    <tr style=\"text-align: right;\">\n",
       "      <th></th>\n",
       "      <th>Time</th>\n",
       "      <th>acc_x</th>\n",
       "      <th>acc_y</th>\n",
       "      <th>acc_z</th>\n",
       "      <th>gy_x</th>\n",
       "      <th>gy_y</th>\n",
       "      <th>gy_z</th>\n",
       "    </tr>\n",
       "  </thead>\n",
       "  <tbody>\n",
       "    <tr>\n",
       "      <th>0</th>\n",
       "      <td>2021-06-29 17063458</td>\n",
       "      <td>-0.229711</td>\n",
       "      <td>-0.031107</td>\n",
       "      <td>9.848858</td>\n",
       "      <td>0.35</td>\n",
       "      <td>-0.49</td>\n",
       "      <td>-0.42</td>\n",
       "    </tr>\n",
       "    <tr>\n",
       "      <th>1</th>\n",
       "      <td>2021-06-29 17063500</td>\n",
       "      <td>-0.193819</td>\n",
       "      <td>-0.081356</td>\n",
       "      <td>9.865608</td>\n",
       "      <td>0.07</td>\n",
       "      <td>-0.49</td>\n",
       "      <td>-0.42</td>\n",
       "    </tr>\n",
       "    <tr>\n",
       "      <th>2</th>\n",
       "      <td>2021-06-29 17063502</td>\n",
       "      <td>-0.165105</td>\n",
       "      <td>-0.105284</td>\n",
       "      <td>9.765109</td>\n",
       "      <td>0.14</td>\n",
       "      <td>-0.49</td>\n",
       "      <td>-0.42</td>\n",
       "    </tr>\n",
       "    <tr>\n",
       "      <th>3</th>\n",
       "      <td>2021-06-29 17063504</td>\n",
       "      <td>-0.191426</td>\n",
       "      <td>-0.122034</td>\n",
       "      <td>9.803394</td>\n",
       "      <td>0.21</td>\n",
       "      <td>-0.49</td>\n",
       "      <td>-0.42</td>\n",
       "    </tr>\n",
       "    <tr>\n",
       "      <th>4</th>\n",
       "      <td>2021-06-29 17063506</td>\n",
       "      <td>-0.205783</td>\n",
       "      <td>-0.069392</td>\n",
       "      <td>9.841680</td>\n",
       "      <td>0.28</td>\n",
       "      <td>-0.42</td>\n",
       "      <td>-0.42</td>\n",
       "    </tr>\n",
       "    <tr>\n",
       "      <th>...</th>\n",
       "      <td>...</td>\n",
       "      <td>...</td>\n",
       "      <td>...</td>\n",
       "      <td>...</td>\n",
       "      <td>...</td>\n",
       "      <td>...</td>\n",
       "      <td>...</td>\n",
       "    </tr>\n",
       "    <tr>\n",
       "      <th>6572</th>\n",
       "      <td>2021-06-29 17175460</td>\n",
       "      <td>-0.172283</td>\n",
       "      <td>-0.167498</td>\n",
       "      <td>9.791430</td>\n",
       "      <td>0.14</td>\n",
       "      <td>-0.56</td>\n",
       "      <td>-0.49</td>\n",
       "    </tr>\n",
       "    <tr>\n",
       "      <th>6573</th>\n",
       "      <td>2021-06-29 17175462</td>\n",
       "      <td>-0.174676</td>\n",
       "      <td>-0.186640</td>\n",
       "      <td>9.851252</td>\n",
       "      <td>0.07</td>\n",
       "      <td>-0.49</td>\n",
       "      <td>-0.42</td>\n",
       "    </tr>\n",
       "    <tr>\n",
       "      <th>6574</th>\n",
       "      <td>2021-06-29 17175464</td>\n",
       "      <td>-0.055035</td>\n",
       "      <td>-0.215354</td>\n",
       "      <td>9.801002</td>\n",
       "      <td>0.14</td>\n",
       "      <td>-0.49</td>\n",
       "      <td>-0.42</td>\n",
       "    </tr>\n",
       "    <tr>\n",
       "      <th>6575</th>\n",
       "      <td>2021-06-29 17175466</td>\n",
       "      <td>-0.126820</td>\n",
       "      <td>-0.203390</td>\n",
       "      <td>9.882358</td>\n",
       "      <td>0.21</td>\n",
       "      <td>-0.63</td>\n",
       "      <td>-0.42</td>\n",
       "    </tr>\n",
       "    <tr>\n",
       "      <th>6576</th>\n",
       "      <td>2021-06-29 17175468</td>\n",
       "      <td>-0.107677</td>\n",
       "      <td>-0.189033</td>\n",
       "      <td>9.822537</td>\n",
       "      <td>0.14</td>\n",
       "      <td>-0.42</td>\n",
       "      <td>-0.42</td>\n",
       "    </tr>\n",
       "  </tbody>\n",
       "</table>\n",
       "<p>6577 rows × 7 columns</p>\n",
       "</div>"
      ],
      "text/plain": [
       "                     Time     acc_x     acc_y     acc_z  gy_x  gy_y  gy_z\n",
       "0     2021-06-29 17063458 -0.229711 -0.031107  9.848858  0.35 -0.49 -0.42\n",
       "1     2021-06-29 17063500 -0.193819 -0.081356  9.865608  0.07 -0.49 -0.42\n",
       "2     2021-06-29 17063502 -0.165105 -0.105284  9.765109  0.14 -0.49 -0.42\n",
       "3     2021-06-29 17063504 -0.191426 -0.122034  9.803394  0.21 -0.49 -0.42\n",
       "4     2021-06-29 17063506 -0.205783 -0.069392  9.841680  0.28 -0.42 -0.42\n",
       "...                   ...       ...       ...       ...   ...   ...   ...\n",
       "6572  2021-06-29 17175460 -0.172283 -0.167498  9.791430  0.14 -0.56 -0.49\n",
       "6573  2021-06-29 17175462 -0.174676 -0.186640  9.851252  0.07 -0.49 -0.42\n",
       "6574  2021-06-29 17175464 -0.055035 -0.215354  9.801002  0.14 -0.49 -0.42\n",
       "6575  2021-06-29 17175466 -0.126820 -0.203390  9.882358  0.21 -0.63 -0.42\n",
       "6576  2021-06-29 17175468 -0.107677 -0.189033  9.822537  0.14 -0.42 -0.42\n",
       "\n",
       "[6577 rows x 7 columns]"
      ]
     },
     "execution_count": 13,
     "metadata": {},
     "output_type": "execute_result"
    }
   ],
   "source": [
    "# df_all = pd.concat([df_acc_new, df_gyro_new], sort = False)\n",
    "df_all = pd.merge(df_acc,df_gyro,on='Time')\n",
    "df_all"
   ]
  },
  {
   "cell_type": "code",
   "execution_count": 8,
   "id": "8f79baa8",
   "metadata": {},
   "outputs": [],
   "source": [
    "from pyspark.sql import SparkSession\n",
    "from pyspark.sql.functions import explode\n",
    "from pyspark.sql.functions import split\n",
    "from pyspark.sql.functions import expr\n",
    "import os\n",
    "# os.environ['PYSPARK_SUBMIT_ARGS'] = '--packages org.apache.spark:spark-streaming-kafka-0-8_2.11:2.3.0,org.apache.spark:spark-sql-kafka-0-10_2.11:2.3.0,org.elasticsearch:elasticsearch-hadoop:7.6.2 pyspark-shell'\n",
    "\n",
    "from pyspark import SparkContext,SparkConf\n",
    "#    Spark Streaming\n",
    "from pyspark.streaming import StreamingContext\n",
    "from pyspark.sql.session import SparkSession\n",
    "from functools import reduce  # For Python 3.x\n",
    "from pyspark.sql import DataFrame\n",
    "\n",
    "\n",
    "# df2.writeStream.format(\"console\").outputMode(\"complete\").start()"
   ]
  },
  {
   "cell_type": "code",
   "execution_count": 9,
   "id": "04e11bbd",
   "metadata": {},
   "outputs": [],
   "source": [
    "df2 = spark.readStream.format(\"kafka\")\\\n",
    "    .option(\"kafka.bootstrap.servers\", \"localhost:9092\")\\\n",
    "    .option(\"subscribe\", \"acc\")\\\n",
    "    .load()\n",
    "# .selectExpr(\"CAST(value AS STRING)\")\n",
    "#     .option(\"checkpointLocation\",\"_\")\\"
   ]
  },
  {
   "cell_type": "code",
   "execution_count": 10,
   "id": "28aedd3e",
   "metadata": {},
   "outputs": [
    {
     "name": "stdout",
     "output_type": "stream",
     "text": [
      "root\n",
      " |-- key: binary (nullable = true)\n",
      " |-- value: binary (nullable = true)\n",
      " |-- topic: string (nullable = true)\n",
      " |-- partition: integer (nullable = true)\n",
      " |-- offset: long (nullable = true)\n",
      " |-- timestamp: timestamp (nullable = true)\n",
      " |-- timestampType: integer (nullable = true)\n",
      "\n"
     ]
    }
   ],
   "source": [
    "df2.printSchema()"
   ]
  },
  {
   "cell_type": "code",
   "execution_count": 7,
   "id": "fabe4559",
   "metadata": {},
   "outputs": [
    {
     "data": {
      "text/plain": [
       "True"
      ]
     },
     "execution_count": 7,
     "metadata": {},
     "output_type": "execute_result"
    }
   ],
   "source": [
    "df2.isStreaming"
   ]
  },
  {
   "cell_type": "code",
   "execution_count": 163,
   "id": "578ece34",
   "metadata": {},
   "outputs": [],
   "source": [
    "# df2 = spark.readStream.format(\"kafka\").option(\"kafka.bootstrap.servers\", \"localhost:9092\")\\\n",
    "#         .option(\"subscribe\", \"acc\").load()\n",
    "# df2_str = df2.selectExpr(\"CAST(value AS STRING)\")\n",
    "# df2_struct = StructType()\\\n",
    "#                     .add(\"Time\", StringType())\\\n",
    "#                     .add(\"TimeZone\", StringType())\\\n",
    "#                     .add(\"acc_x\", DoubleType())\\\n",
    "#                     .add(\"acc_y\", DoubleType())\\\n",
    "#                     .add(\"acc_z\", DoubleType())\n",
    "# df2_struct = df2_str.select(from_json(col(\"value\"), df2_struct).alias(\"df_acc\"))\n",
    "# df2_new = df2_struct.select(\"df_acc.*\")\n",
    "# df2_2 = df2_new.toPandas()"
   ]
  },
  {
   "cell_type": "code",
   "execution_count": 11,
   "id": "251c1ee4",
   "metadata": {},
   "outputs": [],
   "source": [
    "ds = df2 \\\n",
    ".selectExpr(\"CAST(key AS STRING)\", \"CAST(value AS STRING)\")\\\n",
    "   .writeStream \\\n",
    "  .format(\"kafka\") \\\n",
    "  .option(\"kafka.bootstrap.servers\", \"localhost:9092\") \\\n",
    "  .option(\"topic\", \"test\") \\\n",
    "  .option(\"checkpointLocation\",\"/home/test/meta\")\\\n",
    "    .start()\n",
    "# ds.awaitTermination()\n",
    "\n",
    "\n",
    "# .trigger(processingTime='2 seconds')\\"
   ]
  },
  {
   "cell_type": "code",
   "execution_count": 24,
   "id": "6c8bb706",
   "metadata": {},
   "outputs": [
    {
     "data": {
      "text/plain": [
       "False"
      ]
     },
     "execution_count": 24,
     "metadata": {},
     "output_type": "execute_result"
    }
   ],
   "source": [
    "ds.isActive"
   ]
  },
  {
   "cell_type": "code",
   "execution_count": 37,
   "id": "db305a57",
   "metadata": {},
   "outputs": [],
   "source": [
    "ds2 = df2 \\\n",
    "    .selectExpr(\"CAST(value AS STRING)\")\\\n",
    "   .writeStream \\\n",
    "    .format(\"console\") \\\n",
    "    .start()\n",
    "ds2.awaitTermination()"
   ]
  },
  {
   "cell_type": "code",
   "execution_count": null,
   "id": "7d9b25c0",
   "metadata": {},
   "outputs": [],
   "source": []
  },
  {
   "cell_type": "code",
   "execution_count": 82,
   "id": "15dde3e8",
   "metadata": {},
   "outputs": [],
   "source": [
    "ds2.stop()"
   ]
  },
  {
   "cell_type": "code",
   "execution_count": null,
   "id": "f04e70f3",
   "metadata": {},
   "outputs": [],
   "source": []
  },
  {
   "cell_type": "code",
   "execution_count": 62,
   "id": "9b165587",
   "metadata": {},
   "outputs": [],
   "source": [
    "sq = df2 \\\n",
    ".writeStream.format('kafka').option(\"kafka.bootstrap.servers\", \"localhost:9092\")\\\n",
    "    .option(\"subscribe\", \"test\")\\\n",
    "    .option(\"checkpointLocation\",\"_\")\\\n",
    "    .start()\n",
    "# sq.processAllAvailable() # Wait a bit to generate the runtime plans.\n",
    "# sq.explain()\n",
    "\n",
    "# sq.awaitTermination()"
   ]
  },
  {
   "cell_type": "code",
   "execution_count": 46,
   "id": "367a5be4",
   "metadata": {},
   "outputs": [],
   "source": [
    "# sq.processAllAvailable() "
   ]
  },
  {
   "cell_type": "code",
   "execution_count": 64,
   "id": "31eb1af8",
   "metadata": {},
   "outputs": [
    {
     "name": "stdout",
     "output_type": "stream",
     "text": [
      "== Physical Plan ==\n",
      "WriteToDataSourceV2 org.apache.spark.sql.execution.streaming.sources.MicroBatchWrite@5d19a3a5\n",
      "+- *(1) Project [key#145, value#146, topic#147, partition#148, offset#149L, timestamp#150, timestampType#151]\n",
      "   +- MicroBatchScan[key#145, value#146, topic#147, partition#148, offset#149L, timestamp#150, timestampType#151] class org.apache.spark.sql.kafka010.KafkaSourceProvider$KafkaScan\n",
      "\n",
      "\n"
     ]
    }
   ],
   "source": [
    "sq.explain()"
   ]
  },
  {
   "cell_type": "code",
   "execution_count": 65,
   "id": "30647a7a",
   "metadata": {},
   "outputs": [
    {
     "data": {
      "text/plain": [
       "False"
      ]
     },
     "execution_count": 65,
     "metadata": {},
     "output_type": "execute_result"
    }
   ],
   "source": [
    "sq.isActive"
   ]
  },
  {
   "cell_type": "code",
   "execution_count": 61,
   "id": "6700aba5",
   "metadata": {},
   "outputs": [],
   "source": [
    "sq.stop()"
   ]
  },
  {
   "cell_type": "code",
   "execution_count": 30,
   "id": "db0a133c",
   "metadata": {},
   "outputs": [],
   "source": [
    "import warnings\n",
    "\n",
    "from pyspark import copy_func, since, _NoValue\n",
    "from pyspark.rdd import RDD, _load_from_socket, _local_iterator_from_socket, \\\n",
    "    ignore_unicode_prefix\n",
    "from pyspark.serializers import BatchedSerializer, PickleSerializer, \\\n",
    "    UTF8Deserializer\n",
    "from pyspark.storagelevel import StorageLevel\n",
    "from pyspark.traceback_utils import SCCallSiteSync\n",
    "from pyspark.sql.types import _parse_datatype_json_string\n",
    "from pyspark.sql.column import Column, _to_seq, _to_list, _to_java_column\n",
    "from pyspark.sql.readwriter import DataFrameWriter\n",
    "from pyspark.sql.streaming import DataStreamWriter\n",
    "from pyspark.sql.types import *\n",
    "from pyspark.sql.pandas.conversion import PandasConversionMixin\n",
    "from pyspark.sql.pandas.map_ops import PandasMapOpsMixin\n",
    "import pyspark.sql.streaming\n"
   ]
  },
  {
   "cell_type": "code",
   "execution_count": null,
   "id": "82351517",
   "metadata": {},
   "outputs": [],
   "source": []
  },
  {
   "cell_type": "code",
   "execution_count": null,
   "id": "b4513052",
   "metadata": {},
   "outputs": [],
   "source": []
  },
  {
   "cell_type": "code",
   "execution_count": null,
   "id": "8cbb3c31",
   "metadata": {},
   "outputs": [],
   "source": []
  },
  {
   "cell_type": "code",
   "execution_count": null,
   "id": "eb2fb420",
   "metadata": {},
   "outputs": [],
   "source": []
  },
  {
   "cell_type": "code",
   "execution_count": null,
   "id": "2900f7ce",
   "metadata": {},
   "outputs": [],
   "source": []
  },
  {
   "cell_type": "code",
   "execution_count": null,
   "id": "cc472ac2",
   "metadata": {},
   "outputs": [],
   "source": []
  },
  {
   "cell_type": "code",
   "execution_count": null,
   "id": "e7823326",
   "metadata": {},
   "outputs": [],
   "source": []
  }
 ],
 "metadata": {
  "kernelspec": {
   "display_name": "Python 3",
   "language": "python",
   "name": "python3"
  },
  "language_info": {
   "codemirror_mode": {
    "name": "ipython",
    "version": 3
   },
   "file_extension": ".py",
   "mimetype": "text/x-python",
   "name": "python",
   "nbconvert_exporter": "python",
   "pygments_lexer": "ipython3",
   "version": "3.6.9"
  }
 },
 "nbformat": 4,
 "nbformat_minor": 5
}
